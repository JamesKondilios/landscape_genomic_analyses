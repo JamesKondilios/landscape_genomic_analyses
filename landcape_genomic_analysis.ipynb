{
 "cells": [
  {
   "cell_type": "code",
   "execution_count": null,
   "metadata": {
    "collapsed": false
   },
   "outputs": [],
   "source": [
    "#input files\n",
    "infilepath=\"/home/megan/Desktop/emel_lb1234/3.reformat/\"\n",
    "genomatrix=\"genos_matrix.csv\"\n",
    "fstpopmatrix=\"fst_pop.csv\"\n",
    "siteallelematrix=\"pop_alleles_gdm.csv\"\n",
    "\n",
    "\n",
    "#samples \"database\"\n",
    "samplefile=\"/home/megan/megan/research/eucalyptus/eucalyptus_data/Emelliodora_PlantsSamples.csv\"\n",
    "accessionfile=\"/home/megan/megan/research/eucalyptus/eucalyptus_data/Emelliodora_Accessions.csv\"\n",
    "\n",
    "#covariate to color by\n",
    "cov2color=\"Latitude\"\n",
    "#cov2color=\"Longitude\"\n",
    "#cov2color=\"CleanedFileSize\"\n",
    "#cov2color=\"missing\"\n",
    "#cov2color=\"PlateName\"\n",
    "#cov2color=\"GradientOrder\""
   ]
  },
  {
   "cell_type": "code",
   "execution_count": null,
   "metadata": {
    "collapsed": false,
    "scrolled": true
   },
   "outputs": [],
   "source": [
    "library(adegenet)\n",
    "library(fossil)\n",
    "library(ecodist)\n",
    "library(raster)\n",
    "library(rgdal)\n",
    "library(gdm)\n",
    "options(jupyter.plot_mimetypes = \"image/png\")"
   ]
  },
  {
   "cell_type": "code",
   "execution_count": null,
   "metadata": {
    "collapsed": false
   },
   "outputs": [],
   "source": [
    "#read in genotype matrix\n",
    "genos=read.delim(paste(infilepath,genomatrix,sep=\"\"), sep=\",\", header=T)     #read in file\n",
    "rownames(genos)=genos[,1]                           #change column 1 to row names\n",
    "#rownames(genos)=substr(genos[,1],9,14)             #get just sample ID from stacks names\n",
    "genos=genos[,-1]\n",
    "dim(genos)\n",
    "genos[1:3,1:5]"
   ]
  },
  {
   "cell_type": "code",
   "execution_count": null,
   "metadata": {
    "collapsed": false
   },
   "outputs": [],
   "source": [
    "#read in fst matrix\n",
    "fst=read.delim(paste(infilepath,fstpopmatrix,sep=\"\"), sep=\",\", header=T)     #read in file\n",
    "fst_pop_names=fst[,1]                               #get pop names before mangled\n",
    "fst=fst[,-1]                                        #fix row names\n",
    "rownames(fst)=colnames(fst)                         \n",
    "dim(fst)\n",
    "fst.dist=as.dist(fst)\n",
    "fst[1:3,1:5]"
   ]
  },
  {
   "cell_type": "code",
   "execution_count": null,
   "metadata": {
    "collapsed": false
   },
   "outputs": [],
   "source": [
    "#format for input into genid object\n",
    "genos.filt=genos\n",
    "#fix loci names so happy\n",
    "colnames(genos.filt)=gsub(\".\",\"_\",colnames(genos.filt),fixed=T)\n",
    "genos.filt[genos.filt == \"./.\"] <- NA\n",
    "#convert to genid object\n",
    "genos.gi <- df2genind(genos.filt,sep=\"/\",NA.char=NA)\n",
    "genos.gi"
   ]
  },
  {
   "cell_type": "code",
   "execution_count": null,
   "metadata": {
    "collapsed": false
   },
   "outputs": [],
   "source": [
    "#add sample metadata\n",
    "sampleinfo=read.csv(samplefile, header=TRUE)  #read in sample information with populations \n",
    "samplematches=match(sampleinfo$SampleID, indNames(genos.gi))  #subset for just samples in this analysis\n",
    "samples=sampleinfo[!is.na(samplematches),][order(na.omit(samplematches)),]\n",
    "\n",
    "accessioninfo=read.csv(accessionfile, header=T)  #read in accession information\n",
    "accessionmatches=match(samples$AccessionID, accessioninfo$AccessionID)\n",
    "samples=cbind(samples,accessioninfo$Latitude[accessionmatches],accessioninfo$Longitude[accessionmatches],\n",
    "              accessioninfo$PopulationName[accessionmatches],accessioninfo$Altitude[accessionmatches],\n",
    "              accessioninfo$GradientOrder[accessionmatches])\n",
    "names(samples)[names(samples)==\"accessioninfo$Latitude[accessionmatches]\"]=\"Latitude\"\n",
    "names(samples)[names(samples)==\"accessioninfo$Longitude[accessionmatches]\"]=\"Longitude\"\n",
    "names(samples)[names(samples)==\"accessioninfo$PopulationName[accessionmatches]\"]=\"PopulationName\"\n",
    "names(samples)[names(samples)==\"accessioninfo$Altitude[accessionmatches]\"]=\"Altitude\"\n",
    "names(samples)[names(samples)==\"accessioninfo$GradientOrder[accessionmatches]\"]=\"GradientOrder\"\n",
    "samples$PopulationName=droplevels(samples$PopulationName) #fix annoying extra level with no assignment\n",
    "\n",
    "#add missing data metric\n",
    "samples$missing=rowSums(is.na(genos.filt))/dim(genos.filt)[2]*100\n",
    "\n",
    "#get color based on ordering of covariate\n",
    "cov=samples[!duplicated(samples[[cov2color]]), ] #remove duplicates of the covariate\n",
    "cov=cov[order(cov[[cov2color]]), ]               #sort \n",
    "cov$color=rev(rainbow(n=dim(cov)[1],start=0, end=.8))       #add color, rev to invert since neg lats\n",
    "#cov$color=rainbow(n=dim(cov)[1],start=0, end=.8)\n",
    "\n",
    "#add color to sample df\n",
    "colormatches=match(samples[[cov2color]], cov[[cov2color]])  #match color to samples by covariate\n",
    "samples=cbind(samples, cov$color[colormatches])\n",
    "names(samples)[names(samples)==\"cov$color[colormatches]\"]=\"cov_color\"\n",
    "samples$cov_color=as.character(samples$cov_color)\n",
    "\n",
    "#resort covariate df so it matches sorted order of populations (for dapc)\n",
    "poporder=samples[!duplicated(samples$PopulationName), ]\n",
    "poporder=poporder[order(poporder$PopulationName), ]   "
   ]
  },
  {
   "cell_type": "code",
   "execution_count": null,
   "metadata": {
    "collapsed": false
   },
   "outputs": [],
   "source": [
    "#read in environmental data\n",
    "clim_vars = getData('worldclim', var='bio', res=2.5, path=\"/home/megan/megan/research/gis_data\")    \n",
    "#useful bioclim names\n",
    "names=c(#\"Latitude\",\"Longitude\",\"Altitude\",\n",
    "       \"Annual Mean Temperature\",\"Mean Diurnal Range\",\"Isothermality\",\"Temperature Seasonality\",\n",
    "       \"Max Temperature of Warmest Month\",\"Min Temperature of Coldest Month\",\n",
    "       \"Temperature Annual Range\",\"Mean Temperature of Wettest Quarter\",\"Mean Temperature of Driest Quarter\",\n",
    "       \"Mean Temperature of Warmest Quarter\",\"Mean Temperature of Coldest Quarter\",\"Annual Precipitation\",\n",
    "       \"Precipitation of Wettest Month\",\"Precipitation of Driest Month\",\"Precipitation Seasonality\",\n",
    "       \"Precipitation of Wettest Quarter\",\"Precipitation of Driest Quarter\",\n",
    "       \"Precipitation of Warmest Quarter\",\"Precipitation of Coldest Quarter\",\n",
    "       \"Koppen Class\",\"Temperature/Humidity Zone\", \"Altitude\")\n",
    "#restrict for our dataset and clean up\n",
    "range=extent(min(samples$Longitude)-1,max(samples$Longitude)+1,min(samples$Latitude)-1,max(samples$Latitude)+1)\n",
    "clim_vars_range=crop(clim_vars, range)\n",
    "rm(clim_vars)\n",
    "\n",
    "#read in altitude data\n",
    "#alt=getData('alt', download=T, country='AUS') \n",
    "    #altitude (elevation); the data were aggregated from SRTM 90 m resolution data between -60 and 60 latitude\n",
    "alt=getData('alt', country='AUS', path=\"/home/megan/megan/research/gis_data/oz_alt\")\n",
    "#alt_range=crop(alt, range)\n",
    "names(alt)=\"altitude\"  #rename\n",
    "\n",
    "#read in koppen data\n",
    "koppen_raw=read.asciigrid(\"/home/megan/megan/research/gis_data/oz_koppen_classes/kpnall.txt\")\n",
    "koppen_rb=as(koppen_raw, 'RasterBrick')\n",
    "names(koppen_rb)=\"koppen\"\n",
    "\n",
    "#read in temp/humidity zone data\n",
    "tmphu_raw=read.asciigrid(\"/home/megan/megan/research/gis_data/oz_tmphumid_zones/clim-zones.txt\")\n",
    "tmphu_rb=as(tmphu_raw, 'RasterBrick')\n",
    "names(tmphu_rb)=\"tmphu\"\n",
    "\n",
    "#add to samples\n",
    "altitude=extract(alt, cbind(samples$Longitude, samples$Latitude))\n",
    "samples=cbind(samples, extract(clim_vars_range, cbind(samples$Longitude, samples$Latitude)),\n",
    "                       extract(koppen_rb, cbind(samples$Longitude, samples$Latitude)),\n",
    "                       extract(tmphu_rb, cbind(samples$Longitude, samples$Latitude)),\n",
    "                       altitude)\n",
    "#names(samples)[names(samples)==\"X.home.megan.megan.research.gis_data.oz_koppen_classes.kpnall.txt\"]=\"koppen\"\n",
    "#names(samples)[names(samples)==\"X.home.megan.megan.research.gis_data.oz_tmphumid_zones.clim.zones.txt\"]=\"tmphu\"\n",
    "\n",
    "#resample to make same extent and add to raster stack\n",
    "koppen_resamp=resample(koppen_rb,clim_vars_range,\"bilinear\")\n",
    "clim_vars_range=stack(clim_vars_range,koppen_resamp)\n",
    "tmphu_resamp=resample(tmphu_rb,clim_vars_range,\"bilinear\")\n",
    "clim_vars_range=stack(clim_vars_range,tmphu_resamp)\n",
    "alt_resamp=resample(alt,clim_vars_range,\"bilinear\")\n",
    "clim_vars_range=stack(clim_vars_range,alt_resamp)\n",
    "\n",
    "#plot(clim_vars_range)"
   ]
  },
  {
   "cell_type": "code",
   "execution_count": null,
   "metadata": {
    "collapsed": false
   },
   "outputs": [],
   "source": [
    "## read in future climate rasters\n",
    "\n",
    "#2050\n",
    "bc50mc85=stack()\n",
    "for (i in 1:19)\n",
    "    {\n",
    "        temp_tif=raster(paste(\"/home/megan/megan/research/gis_data/mc85bi50/mc85bi50\",i,\".tif\",sep=\"\"))\n",
    "                          # crs=\"+proj=longlat +datum=WGS84\")\n",
    "        #temp_proj=projectRaster(temp_tif, crs=\"+proj=longlat +datum=WGS84\")\n",
    "        temp_rb=as(temp_tif, 'RasterBrick')\n",
    "        ##resample to make same extent and add to raster stack\n",
    "        temp_resamp=resample(temp_rb,clim_vars_range,\"bilinear\")\n",
    "        names(temp_resamp)=paste(\"bio\",i,sep=\"\")\n",
    "        #stack bricks\n",
    "        bc50mc85=stack(bc50mc85,temp_resamp)\n",
    "    }\n",
    "#change so NAs match the present climate variables\n",
    "#bc50mc85=bc50mc85[is.na(clim_vars_range[])]=NA\n",
    "tmp_names=names(bc50mc85)\n",
    "values(bc50mc85)[is.na(clim_vars_range[])]=NA\n",
    "names(bc50mc85)=tmp_names\n",
    "\n",
    "#2070\n",
    "bc70mc85=stack()\n",
    "for (i in 1:19)\n",
    "    {\n",
    "        temp_tif=raster(paste(\"/home/megan/megan/research/gis_data/mc85bi70/mc85bi70\",i,\".tif\",sep=\"\"))\n",
    "        temp_rb=as(temp_tif, 'RasterBrick')\n",
    "        ##resample to make same extent and add to raster stack\n",
    "        temp_resamp=resample(temp_rb,clim_vars_range,\"bilinear\")\n",
    "        names(temp_resamp)=paste(\"bio\",i,sep=\"\")\n",
    "        #stack bricks\n",
    "        bc70mc85=stack(bc70mc85,temp_resamp)\n",
    "    }\n",
    "#change so NAs match the present climate variables\n",
    "tmp_names=names(bc70mc85)\n",
    "values(bc70mc85)[is.na(clim_vars_range[])]=NA\n",
    "names(bc70mc85)=tmp_names"
   ]
  },
  {
   "cell_type": "code",
   "execution_count": null,
   "metadata": {
    "collapsed": false
   },
   "outputs": [],
   "source": [
    "library(oz)\n",
    "#pdf(file=\"map.pdf\")\n",
    "oz(ylim=c(-40,-27),xlim=c(148,149.7))\n",
    "#plot(samples$longitude,samples$latitude, labels=samples$Population)\n",
    "text(samples$Longitude,samples$Latitude, \n",
    "     label=substring(samples$PopulationName, 4), cex = .6, col=samples$cov_color) #add names and colors\n",
    "#dev.off()"
   ]
  },
  {
   "cell_type": "code",
   "execution_count": null,
   "metadata": {
    "collapsed": false,
    "scrolled": true
   },
   "outputs": [],
   "source": [
    "#pca of genetic distance by individual\n",
    "genos.dist=dist(genos.gi)\n",
    "pcoa.genos=dudi.pco(genos.dist,scannf = F, nf = 3)\n",
    "percent_var=round(100*pcoa.genos$eig/sum(pcoa.genos$eig),1)"
   ]
  },
  {
   "cell_type": "code",
   "execution_count": null,
   "metadata": {
    "collapsed": false
   },
   "outputs": [],
   "source": [
    "#pdf(\"emellb_pca_275.pdf\")\n",
    "plot(pcoa.genos$li[,2:1], pch=\"\",\n",
    "    xlab = paste(\"PCOA axis 2 (\", percent_var[2],\"%)\"), ylab = paste(\"PCOA axis 1 (\", percent_var[1],\"%)\"),\n",
    "    ylim=c(8,-17))\n",
    "  #  xlim=c(-10,10),ylim=c(-15,10))\n",
    "text(pcoa.genos$li[,2:1], \n",
    "     label=samples$SampleName, cex = .6, col=samples$cov_color) #add names and colors\n",
    "#dev.off()"
   ]
  },
  {
   "cell_type": "code",
   "execution_count": null,
   "metadata": {
    "collapsed": false
   },
   "outputs": [],
   "source": [
    "#make map/pca figure\n",
    "pdf(\"emellb_map_pca.pdf\", height=6, width=10)\n",
    "par(mfrow=c(1,2))#, mar=c(5,4,1,1))\n",
    "par(mar=c(1,1,1,0))\n",
    "oz(ylim=c(-40,-25),xlim=c(148,149.7))\n",
    "text(samples$Longitude,samples$Latitude, \n",
    "     label=substring(samples$PopulationName, 4), cex = .6, col=samples$cov_color) #add names and colors\n",
    "mtext(\"A\",3, line=-1.5, at=143, outer=F, cex=2)\n",
    "par(mar=c(5,4,1,1))\n",
    "plot(pcoa.genos$li[,2:1], pch=\"\",\n",
    "    xlab = paste(\"PCA axis 2 (\", percent_var[2],\"%)\"), ylab = paste(\"PCA axis 1 (\", percent_var[1],\"%)\"),\n",
    "    ylim=c(8,-17))\n",
    "  #  xlim=c(-10,10),ylim=c(-15,10))\n",
    "text(pcoa.genos$li[,2:1], \n",
    "     label=samples$SampleName, cex = .6, col=samples$cov_color) #add names and colors\n",
    "mtext(\"B\",3, line=-1.5, at=-12, outer=F, cex=2)\n",
    "#text(-10, -15, labels =\"B\")\n",
    "dev.off()"
   ]
  },
  {
   "cell_type": "code",
   "execution_count": null,
   "metadata": {
    "collapsed": false
   },
   "outputs": [],
   "source": [
    "#pca of genetic distance by population fst\n",
    "#pdf(file=\"pca.pdf\")\n",
    "pcoa.fst=dudi.pco(fst.dist,scannf = F, nf = 3)\n",
    "percent_var=round(100*pcoa.fst$eig/sum(pcoa.fst$eig),1)\n",
    "#pdf(\"emellb_pca_275.pdf\")\n",
    "plot(pcoa.fst$li[,1:2], pch=\"\",\n",
    "    xlab = paste(\"PCOA axis 1 (\", percent_var[1],\"%)\"), ylab = paste(\"PCOA axis 2 (\", percent_var[2],\"%)\"))\n",
    "text(pcoa.fst$li[,1:2], \n",
    "     label=substring(rownames(fst),4), cex = .8, col=poporder$cov_color) #add names and colors\n",
    "#dev.off()"
   ]
  },
  {
   "cell_type": "code",
   "execution_count": null,
   "metadata": {
    "collapsed": false,
    "scrolled": true
   },
   "outputs": [],
   "source": [
    "#unstable results\n",
    "#DAPC inferred clusters\n",
    "\n",
    "#uncomment to determine number of clusters\n",
    "#grp_infer=find.clusters(genos.gi) \n",
    "#grp_infer=find.clusters(genos.gi, n.pca=300)\n",
    "    #keep all components, unless computation constraint, retain 300\n",
    "    #clusters=minimum number in BIC graph\n",
    "        #for this case, didn't give any useful information\n",
    "\n",
    "#determine assignemnts for selected number of clusters\n",
    "grp_infer=find.clusters(genos.gi, n.pca=300, n.clust=4) #selected number of clusters, keep all pcas\n",
    "table(samples$PopulationName, grp_infer$grp)\n",
    "\n",
    "#dapc\n",
    "dapc_infer=dapc(genos.gi,grp_infer$grp,n.pca=50, n.da=10) \n",
    "    #remove n.pca and n.da to see graphs  \n",
    "    #if graphs suggest want keep max, find max without warning or lower for more stability\n",
    "\n",
    "#graph\n",
    "#pdf(\"dapcA_inf.pdf\")\n",
    "scatter(dapc_infer, scree.da=F,pch=0:20, cstar=F, solid=1, cex=.7, clab=F,\n",
    "        col=c(\"darkred\",\"darkgreen\",\"darkblue\",\"darkmagenta\",\"darkorange\",\"darkgoldenrod1\"),\n",
    "        leg=F,cell=T, posi.pca=\"bottomright\") #mstree=TRUE, \n",
    "#dev.off()\n",
    "\n",
    "#update population info\n",
    "#pdf(\"dapcB_inf.pdf\")\n",
    "dapc_infer$grp=samples$PopulationName\n",
    "scatter(dapc_infer, scree.da=F,pch=0:20, cstar=F, col=poporder$cov_color, solid=1, cex=.7, clab=F,\n",
    "        leg=F,cell=F, posi.pca=\"bottomright\")\n",
    "#dev.off()"
   ]
  },
  {
   "cell_type": "code",
   "execution_count": null,
   "metadata": {
    "collapsed": false,
    "scrolled": false
   },
   "outputs": [],
   "source": [
    "#DAPC assigned clusters\n",
    "\n",
    "#dapc\n",
    "dapc_assign=dapc(genos.gi,samples$PopulationName,n.pca=72, n.da=5) \n",
    "    #remove n.pca and n.da to see graphs to determine values\n",
    "    #if graphs suggest want keep max, find max without warning\n",
    "\n",
    "#graph\n",
    "#pdf(\"dapc_assign.pdf\")\n",
    "scatter(dapc_assign, scree.da=F,pch=0:20, cstar=F, solid=1, cex=.7, clab=F,\n",
    "        col=poporder$cov_color, legend=T, cleg=.95,\n",
    "        cell=T, posi.pca=\"bottomright\") #mstree=TRUE, \n",
    "#dev.off()"
   ]
  },
  {
   "cell_type": "code",
   "execution_count": null,
   "metadata": {
    "collapsed": false
   },
   "outputs": [],
   "source": [
    "#get geographic distance matrix for individuals\n",
    "geog_long_lat=samples[,c(\"Longitude\",\"Latitude\")]\n",
    "row.names(geog_long_lat)=samples$SampleID\n",
    "geo.dist=earth.dist(geog_long_lat, dist=T)\n",
    "\n",
    "#get geographic distance matrix for populations (by name)\n",
    "#in order of fst matrix\n",
    "populations=samples[!duplicated(samples$PopulationName), ]\n",
    "populations=populations[match(fst_pop_names, populations$PopulationName),]\n",
    "pop_geog_long_lat=populations[,c(\"Longitude\",\"Latitude\")]\n",
    "row.names(pop_geog_long_lat)=populations$PopulationName\n",
    "geo.pop.dist=earth.dist(pop_geog_long_lat, dist=T)\n",
    "\n",
    "#get ln of geographic distances\n",
    "log_geo.dist=log(geo.dist+1)\n",
    "log_geo.pop.dist=log(geo.pop.dist+1)"
   ]
  },
  {
   "cell_type": "code",
   "execution_count": null,
   "metadata": {
    "collapsed": false,
    "scrolled": false
   },
   "outputs": [],
   "source": [
    "#IBD by individual\n",
    "#mantel test\n",
    "man=mantel(genos.dist ~ geo.dist, nperm=10000)\n",
    "print(\"% variation explained\")\n",
    "man[1]^2*100 #rsquared\n",
    "print(\"one-tailed p-value (null hypothesis r<=0)\")\n",
    "man[2]\n",
    "print(\"full results\")\n",
    "man\n",
    "#mantel correlogram\n",
    "gen_geo <- mgram(genos.dist, geo.dist)\n",
    "gen_geo$mgram[,4] #print pvalues\n",
    "plot(gen_geo,xlab=\"Distance (km)\") \n",
    "\n",
    "#IBD by individual\n",
    "#ln geographic distance\n",
    "man=mantel(genos.dist ~ log_geo.dist, nperm=10000)\n",
    "print(\"% variation explained\")\n",
    "man[1]^2*100 #rsquared\n",
    "print(\"one-tailed p-value (null hypothesis r<=0)\")\n",
    "man[2]\n",
    "print(\"full results\")\n",
    "man\n",
    "#mantel correlogram\n",
    "gen_geo <- mgram(genos.dist, log_geo.dist)\n",
    "gen_geo$mgram[,4] #print pvalues\n",
    "plot(gen_geo,xlab=\"log Distance (km)+1\") "
   ]
  },
  {
   "cell_type": "code",
   "execution_count": null,
   "metadata": {
    "collapsed": false
   },
   "outputs": [],
   "source": [
    "#IBD by population\n",
    "#mantel test\n",
    "man=mantel(fst.dist ~ geo.pop.dist, nperm=10000)\n",
    "print(\"% variation explained\")\n",
    "man[1]^2*100 #rsquared\n",
    "print(\"one-tailed p-value (null hypothesis r<=0)\")\n",
    "man[2]\n",
    "print(\"full results\")\n",
    "man\n",
    "#mantel correlogram\n",
    "gen_geo <- mgram(fst.dist, geo.pop.dist)\n",
    "gen_geo$mgram[,4] #print pvalues\n",
    "plot(gen_geo,xlab=\"Distance (km)\")\n",
    "\n",
    "#ln of geographic distance and fst/(1-fst)\n",
    "man=mantel((fst.dist/(1-fst.dist)) ~ log_geo.pop.dist, nperm=10000)\n",
    "print(\"% variation explained\")\n",
    "man[1]^2*100 #rsquared\n",
    "print(\"one-tailed p-value (null hypothesis r<=0)\")\n",
    "man[2]\n",
    "print(\"full results\")\n",
    "man\n",
    "#mantel correlogram\n",
    "gen_geo <- mgram((fst.dist/(1-fst.dist)), log_geo.pop.dist)\n",
    "gen_geo$mgram[,4] #print pvalues\n",
    "plot(gen_geo,xlab=\"log Distance (km)+1\")"
   ]
  },
  {
   "cell_type": "code",
   "execution_count": null,
   "metadata": {
    "collapsed": false
   },
   "outputs": [],
   "source": [
    "#IBE by individual\n",
    "#loop over enviro vars\n",
    "ibe.out=data.frame(matrix(nrow=length(names), ncol=4))\n",
    "colnames(ibe.out)=c(\"enviro_var\",\"model R2(%)\",\"geog_pval\",\"enviro_pval\")\n",
    "x=1\n",
    "for (i in which(colnames(samples)==\"bio1\"):(which(colnames(samples)==\"bio1\")+length(names)-1))\n",
    "     {\n",
    "        ibe.out[x,1]=names[x]\n",
    "        env.dist=dist(samples[,i])  #get enviro distance\n",
    "        env.mrm=MRM(genos.dist ~ env.dist + geo.dist)  #do the work\n",
    "        ibe.out[x,2]=env.mrm$r.squared[1]*100\n",
    "        ibe.out[x,3]=env.mrm$coef[3,2]\n",
    "        ibe.out[x,4]=env.mrm$coef[2,2]\n",
    "        x=x+1  \n",
    "     }\n",
    "\n",
    "#just geography\n",
    "env.mrm=MRM(genos.dist ~ geo.dist)\n",
    "        ibe.out[x,1]=\"Geography alone\"\n",
    "        ibe.out[x,2]=env.mrm$r.squared[1]*100\n",
    "        ibe.out[x,3]=env.mrm$coef[2,2]\n",
    "\n",
    "#print results\n",
    "print(ibe.out, digits=5)"
   ]
  },
  {
   "cell_type": "code",
   "execution_count": null,
   "metadata": {
    "collapsed": false
   },
   "outputs": [],
   "source": [
    "#IBE by population\n",
    "#loop over enviro vars\n",
    "ibe.out=data.frame(matrix(nrow=length(names), ncol=4))\n",
    "colnames(ibe.out)=c(\"enviro_var\",\"model R2(%)\",\"geog_pval\",\"enviro_pval\")\n",
    "x=1\n",
    "for (i in which(colnames(populations)==\"bio1\"):(which(colnames(populations)==\"bio1\")+length(names)-1))\n",
    "     {\n",
    "        ibe.out[x,1]=names[x]\n",
    "        env.dist=dist(populations[,i])  #get enviro distance\n",
    "        env.mrm=MRM(fst.dist ~ env.dist + geo.pop.dist)  #do the work\n",
    "        ibe.out[x,2]=env.mrm$r.squared[1]*100\n",
    "        ibe.out[x,3]=env.mrm$coef[3,2]\n",
    "        ibe.out[x,4]=env.mrm$coef[2,2]\n",
    "        x=x+1  \n",
    "     }\n",
    "\n",
    "#just geography\n",
    "env.mrm=MRM(fst.dist ~ geo.pop.dist)\n",
    "        ibe.out[x,1]=\"Geography alone\"\n",
    "        ibe.out[x,2]=env.mrm$r.squared[1]*100\n",
    "        ibe.out[x,3]=env.mrm$coef[2,2]\n",
    "\n",
    "#print results\n",
    "print(ibe.out, digits=5)"
   ]
  },
  {
   "cell_type": "code",
   "execution_count": null,
   "metadata": {
    "collapsed": false,
    "scrolled": true
   },
   "outputs": [],
   "source": [
    "#gdm with fst as genetic distance matrix\n",
    "site=as.integer(fst_pop_names)\n",
    "\n",
    "#format population info\n",
    "#popenv=cbind(site,populations[,c(19:20,26:ncol(populations))])\n",
    "popenv=cbind(site,populations[,c(19:20,26:44)])  #just 19 bioclim vars\n",
    "\n",
    "#format and scale fst matrix\n",
    "#shift to get rid of negative values\n",
    "shift=min(fst.dist)\n",
    "fst.dist.tx=fst.dist-shift\n",
    "#divide by max to scale 0-1\n",
    "scale=max(fst.dist.tx)\n",
    "fst.dist.tx=fst.dist.tx/scale\n",
    "print(min(fst.dist.tx))\n",
    "print(max(fst.dist.tx))\n",
    "#rescale distances\n",
    "#unscaleddist=(scaleddist*scale)+shift\n",
    "\n",
    "#format for gdm input\n",
    "fst.dist.m=as.matrix(fst.dist.tx)\n",
    "gdmDissim=data.frame(site,fst.dist.m)\n",
    "gdmTab.dis=formatsitepair(gdmDissim, bioFormat=3, XColumn=\"Longitude\", YColumn=\"Latitude\",\n",
    "                             predData=popenv, siteColumn=\"site\")\n",
    "\n",
    "#run GDM\n",
    "gdm.1=gdm(gdmTab.dis, geo=T)\n",
    "print(summary(gdm.1))\n",
    "plot(gdm.1, plot.layout=c(2,2))"
   ]
  },
  {
   "cell_type": "code",
   "execution_count": null,
   "metadata": {
    "collapsed": false
   },
   "outputs": [],
   "source": [
    "# make figures\n",
    "\n",
    "par(mfrow=c(2,2))\n",
    "\n",
    "#enviro vs genetic dist\n",
    "plot(gdm.1$ecological,gdm.1$observed, col=\"grey40\",pch=20,\n",
    "        xlab=\"Predicted Environmental Distance\", ylab=\"Observed Genetic Distance\")\n",
    "#plot(mean(gdm.1.splineDat$x),mean(gdm.1.splineDat$y))\n",
    "#plot(rowMeans(gdm.1.splineDat$x),rowMeans(gdm.1.splineDat$y))\n",
    "#gdm.1.splineDat <- isplineExtract(gdm.1)\n",
    "#plot(gdm.1.splineDat$x[,\"Geographic\"], gdm.1.splineDat$y[,\"Geographic\"], lwd=3,\n",
    "#   type=\"l\", xlab=\"Geographic distance\", ylab=\"Partial environmental distance\")"
   ]
  },
  {
   "cell_type": "code",
   "execution_count": null,
   "metadata": {
    "collapsed": false
   },
   "outputs": [],
   "source": [
    "#predict (this uses the model to predict the current sites based on the model)\n",
    "gdm.1.pred <- predict(gdm.1, gdmTab.dis)\n",
    "plot(gdmTab.dis$distance, gdm.1.pred, xlab=\"Observed dissimilarity\",\n",
    "     ylab=\"Predicted dissimilarity\", xlim=c(0,1), ylim=c(0,1), pch=20, col=rgb(0,0,1,0.5))\n",
    "lines(c(-1,2), c(-1,2))"
   ]
  },
  {
   "cell_type": "code",
   "execution_count": null,
   "metadata": {
    "collapsed": false,
    "scrolled": true
   },
   "outputs": [],
   "source": [
    "#prediction in space\n",
    "\n",
    "# transform climate rasters & plot pattern\n",
    "rastTrans <- gdm.transform(gdm.1, subset(clim_vars_range,c(1:19)))\n",
    "#plot(rastTrans)\n",
    "\n",
    "rastDat <- na.omit(getValues(rastTrans))\n",
    "#rastDat <- sampleRandom(rastTrans, 50000) # can use if rasters are large\n",
    "pcaSamp <- prcomp(rastDat)\n",
    "# note the use of the 'index' argument\n",
    "pcaRast <- predict(rastTrans, pcaSamp, index=1:3)\n",
    "# scale rasters\n",
    "pcaRast[[1]] <- (pcaRast[[1]]-pcaRast[[1]]@data@min) /\n",
    "(pcaRast[[1]]@data@max-pcaRast[[1]]@data@min)*255\n",
    "pcaRast[[2]] <- (pcaRast[[2]]-pcaRast[[2]]@data@min) /\n",
    "(pcaRast[[2]]@data@max-pcaRast[[2]]@data@min)*255\n",
    "pcaRast[[3]] <- (pcaRast[[3]]-pcaRast[[3]]@data@min) /\n",
    "(pcaRast[[3]]@data@max-pcaRast[[3]]@data@min)*255\n",
    "\n",
    "#pdf(\"emellb_gdm_space.pdf\")\n",
    "plotRGB(pcaRast, r=1, g=2, b=3)\n",
    "text(samples$Longitude,samples$Latitude, \n",
    "     label=substring(samples$PopulationName, 4), cex = .6)#, col=samples$cov_color) #add names and colors\n",
    "#dev.off()"
   ]
  },
  {
   "cell_type": "code",
   "execution_count": null,
   "metadata": {
    "collapsed": true
   },
   "outputs": [],
   "source": [
    "## prediction in future ##\n",
    "#formatting\n",
    "#add climate zones, etc to future since don't have predictions for those\n",
    "#bc50mc85=stack(bc50mc85,subset(clim_vars_range,20:22))\n",
    "#bc70mc85=stack(bc70mc85,subset(clim_vars_range,20:22))"
   ]
  },
  {
   "cell_type": "code",
   "execution_count": null,
   "metadata": {
    "collapsed": false
   },
   "outputs": [],
   "source": [
    "#prediction in future space\n",
    "\n",
    "# transform climate rasters & plot pattern\n",
    "rastTrans <- gdm.transform(gdm.1, bc70mc85)\n",
    "#plot(rastTrans)\n",
    "\n",
    "rastDat <- na.omit(getValues(rastTrans))\n",
    "#rastDat <- sampleRandom(rastTrans, 50000) # can use if rasters are large\n",
    "pcaSamp <- prcomp(rastDat)\n",
    "# note the use of the 'index' argument\n",
    "pcaRast <- predict(rastTrans, pcaSamp, index=1:3)\n",
    "# scale rasters\n",
    "pcaRast[[1]] <- (pcaRast[[1]]-pcaRast[[1]]@data@min) /\n",
    "(pcaRast[[1]]@data@max-pcaRast[[1]]@data@min)*255\n",
    "pcaRast[[2]] <- (pcaRast[[2]]-pcaRast[[2]]@data@min) /\n",
    "(pcaRast[[2]]@data@max-pcaRast[[2]]@data@min)*255\n",
    "pcaRast[[3]] <- (pcaRast[[3]]-pcaRast[[3]]@data@min) /\n",
    "(pcaRast[[3]]@data@max-pcaRast[[3]]@data@min)*255\n",
    "\n",
    "#pdf(\"emellb_gdm_future_space.pdf\")\n",
    "plotRGB(pcaRast, r=1, g=2, b=3)\n",
    "text(samples$Longitude,samples$Latitude, \n",
    "     label=substring(samples$PopulationName, 4), cex = .6)#, col=samples$cov_color) #add names and colors\n",
    "#dev.off()"
   ]
  },
  {
   "cell_type": "code",
   "execution_count": null,
   "metadata": {
    "collapsed": false
   },
   "outputs": [],
   "source": [
    "## prediction in time ##\n",
    "\n",
    "#2050\n",
    "#pdf(\"gdm_2050.pdf\")\n",
    "timePred <- predict(gdm.1, subset(clim_vars_range,c(1:19)), time=T, predRasts=bc50mc85)\n",
    "#hist(timePred$values)\n",
    "timePred[timePred>1]=NA\n",
    "plot(timePred)\n",
    "text(samples$Longitude,samples$Latitude, \n",
    "     label=substring(samples$PopulationName, 4), cex = .6)#, col=samples$cov_color) #add names and colors\n",
    "#dev.off()\n",
    "\n",
    "#2070\n",
    "#pdf(\"gdm_2070.pdf\")\n",
    "timePred <- predict(gdm.1, subset(clim_vars_range,c(1:19)), time=T, predRasts=bc70mc85)\n",
    "#hist(timePred$values)\n",
    "timePred[timePred>1]=NA\n",
    "plot(timePred)\n",
    "text(samples$Longitude,samples$Latitude, \n",
    "     label=substring(samples$PopulationName, 4), cex = .6)#, col=samples$cov_color) #add names and colors\n",
    "#dev.off()"
   ]
  },
  {
   "cell_type": "markdown",
   "metadata": {},
   "source": [
    "###############################"
   ]
  },
  {
   "cell_type": "code",
   "execution_count": null,
   "metadata": {
    "collapsed": false
   },
   "outputs": [],
   "source": [
    "#identify \"clones\" for removal for individual based gdm analysis\n",
    "x=hclust(genos.dist)\n",
    "#pdf(\"sample_dend.pdf\", width=20, height=6)\n",
    "plot(x,cex=.5)\n",
    "#dev.off()"
   ]
  },
  {
   "cell_type": "code",
   "execution_count": null,
   "metadata": {
    "collapsed": false
   },
   "outputs": [],
   "source": [
    "#remove clones\n",
    "genos.dist.noclones=as.matrix(genos.dist)\n",
    "which(colnames(genos.dist.noclones)==\"S45174\")\n",
    "which(colnames(genos.dist.noclones)==\"S45255\")\n",
    "which(colnames(genos.dist.noclones)==\"S45304\")\n",
    "which(colnames(genos.dist.noclones)==\"S45180\")\n",
    "which(colnames(genos.dist.noclones)==\"S45184\")\n",
    "which(colnames(genos.dist.noclones)==\"S45181\")\n",
    "which(colnames(genos.dist.noclones)==\"S45183\")\n",
    "which(colnames(genos.dist.noclones)==\"S45083\")\n",
    "which(colnames(genos.dist.noclones)==\"S45024\")\n",
    "ind=c(135,197,232,140,143,141,142,67,21)\n",
    "genos.dist.noclones=genos.dist.noclones[-ind,-ind]\n",
    "genos.dist.noclones=dist(genos.dist.noclones)\n",
    "\n",
    "samples.noclones=subset(samples, SampleID!=\"S45174\" & SampleID!=\"S45255\" & SampleID!=\"S45304\"\n",
    "                        & SampleID!=\"S45180\" & SampleID!=\"S45184\" & SampleID!=\"S45181\" & SampleID!=\"S45183\"\n",
    "                        & SampleID!=\"S45083\" & SampleID!=\"S45024\" )"
   ]
  },
  {
   "cell_type": "code",
   "execution_count": null,
   "metadata": {
    "collapsed": false
   },
   "outputs": [],
   "source": [
    "##gdm with individual genetic distance matrix\n",
    "site=as.integer(samples.noclones$SampleName)\n",
    "\n",
    "#format population info\n",
    "sampleenv=cbind(site,samples.noclones[,c(19:20,26:ncol(populations))])\n",
    "\n",
    "#format and scale distance matrix\n",
    "#shift to get rid of negative values\n",
    "shift=min(genos.dist.noclones)\n",
    "genos.dist.tx=genos.dist.noclones-shift\n",
    "#divide by max to scale 0-1\n",
    "scale=max(genos.dist.tx)\n",
    "genos.dist.tx=genos.dist.tx/scale\n",
    "print(min(genos.dist.tx))\n",
    "print(max(genos.dist.tx))\n",
    "#rescale distances\n",
    "#unscaleddist=(scaleddist*scale)+shift\n",
    "genos.dist.m=as.matrix(genos.dist.tx)\n",
    "gdmDissim=data.frame(site,genos.dist.m)\n",
    "gdmTab.dis=formatsitepair(gdmDissim, bioFormat=3, XColumn=\"Longitude\", YColumn=\"Latitude\",\n",
    "                             predData=sampleenv, siteColumn=\"site\")\n",
    "#run GDM\n",
    "gdm.1=gdm(gdmTab.dis, geo=T)\n",
    "#summary(gdm.1)\n",
    "#str(gdm.1)\n",
    "plot(gdm.1, plot.layout=c(2,2))\n",
    "gdm.1.splineDat <- isplineExtract(gdm.1)\n",
    "#str(gdm.1.splineDat)\n",
    "plot(gdm.1.splineDat$x[,\"Geographic\"], gdm.1.splineDat$y[,\"Geographic\"], lwd=3,\n",
    "     type=\"l\", xlab=\"Geographic distance\", ylab=\"Partial ecological distance\")\n",
    "\n",
    "gdm.1.pred <- predict(gdm.1, gdmTab.dis)\n",
    "plot(gdmTab.dis$distance, gdm.1.pred, xlab=\"Observed dissimilarity\",\n",
    "     ylab=\"Predicted dissimilarity\", xlim=c(0,1), ylim=c(0,1), pch=20, col=rgb(0,0,1,0.5))\n",
    "lines(c(-1,2), c(-1,2))"
   ]
  },
  {
   "cell_type": "code",
   "execution_count": null,
   "metadata": {
    "collapsed": false
   },
   "outputs": [],
   "source": [
    "## GDM with allele abundance by population ##\n",
    "\n",
    "#read in allele abundance data (sites x allele)\n",
    "sitealleles=read.delim(paste(infilepath,siteallelematrix,sep=\"\"), sep=\",\", header=F)     #read in file\n",
    "colnames(sitealleles)[1]=\"PopulationName\"\n",
    "colnames(sitealleles)[2]=\"Longitude\"\n",
    "colnames(sitealleles)[3]=\"Latitude\"\n",
    "#sitealleles[1:5,1:10]\n",
    "\n",
    "#enviro data\n",
    "siteenviro=populations[,c(19:21,26:ncol(populations))]\n",
    "\n",
    "#format data\n",
    "gdmTab=formatsitepair(sitealleles, bioFormat=1, XColumn=\"Longitude\", YColumn=\"Latitude\", siteColumn=\"PopulationName\",\n",
    "                     predData=siteenviro, abundance=T, weightType=\"richness\")\n",
    "#scale distance to 0-1\n",
    "gdmTab$distance=gdmTab$distance-min(gdmTab$distance)\n",
    "gdmTab$distance=gdmTab$distance/max(gdmTab$distance)\n",
    "\n",
    "#run GDM\n",
    "gdm.1=gdm(gdmTab, geo=T)\n",
    "#summary(gdm.1)\n",
    "#str(gdm.1)\n",
    "length(gdm.1$predictors) # get idea of number of panels\n",
    "plot(gdm.1, plot.layout=c(2,2))\n",
    "gdm.1.splineDat <- isplineExtract(gdm.1)\n",
    "#str(gdm.1.splineDat)\n",
    "plot(gdm.1.splineDat$x[,\"Geographic\"], gdm.1.splineDat$y[,\"Geographic\"], lwd=3,\n",
    "     type=\"l\", xlab=\"Geographic distance\", ylab=\"Partial ecological distance\")\n",
    "\n",
    "gdm.1.pred <- predict(gdm.1, gdmTab)\n",
    "plot(gdmTab$distance, gdm.1.pred, xlab=\"Observed dissimilarity\",\n",
    "     ylab=\"Predicted dissimilarity\", xlim=c(0,1), ylim=c(0,1), pch=20, col=rgb(0,0,1,0.5))\n",
    "lines(c(-1,2), c(-1,2))"
   ]
  }
 ],
 "metadata": {
  "kernelspec": {
   "display_name": "R",
   "language": "R",
   "name": "ir"
  },
  "language_info": {
   "codemirror_mode": "r",
   "file_extension": ".r",
   "mimetype": "text/x-r-source",
   "name": "R",
   "pygments_lexer": "r",
   "version": "3.1.2"
  }
 },
 "nbformat": 4,
 "nbformat_minor": 0
}
